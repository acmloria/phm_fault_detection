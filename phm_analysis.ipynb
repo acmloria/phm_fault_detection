{
 "cells": [
  {
   "cell_type": "markdown",
   "id": "00924324",
   "metadata": {},
   "source": [
    "# PHM Wafer Fault Detection Analysis\n",
    "\n",
    "This notebook explores the wafer fabrication process dataset provided for the HW3 Prognostic Health Management (PHM) competition.  The objective is to build a model that detects anomalous (failed) production runs based on hundreds of sensor readings. We perform exploratory data analysis (EDA), engineer features from timestamps, train a variety of models and tune a decision threshold to maximise the macro F1 score."
   ]
  },
  {
   "cell_type": "code",
   "execution_count": 1,
   "id": "bf7d64b0",
   "metadata": {},
   "outputs": [
    {
     "data": {
      "text/plain": [
       "(    Id             Time        0        1          2  ...     586     587  \\\n",
       " 0  1.0  7/19/2008 11:55  3030.93  2564.00  2187.7333  ...     NaN     NaN   \n",
       " 1  2.0  7/19/2008 12:32  3095.78  2465.14  2230.4222  ...  0.0096  0.0201   \n",
       " 2  3.0  7/19/2008 13:17  2932.61  2559.94  2186.4111  ...  0.0584  0.0484   \n",
       " 3  4.0  7/19/2008 14:43  2988.72  2479.90  2199.0333  ...  0.0202  0.0149   \n",
       " 4  5.0  7/19/2008 15:22  3032.24  2502.87  2233.3667  ...  0.0202  0.0149   \n",
       " \n",
       "       588       589  Pass/Fail  \n",
       " 0     NaN       NaN        0.0  \n",
       " 1  0.0060  208.2045        0.0  \n",
       " 2  0.0148   82.8602        1.0  \n",
       " 3  0.0044   73.8432        0.0  \n",
       " 4  0.0044   73.8432        0.0  \n",
       " \n",
       " [5 rows x 593 columns],\n",
       " (1096, 593),\n",
       " (471, 592))"
      ]
     },
     "execution_count": 1,
     "metadata": {},
     "output_type": "execute_result"
    }
   ],
   "source": [
    "import pandas as pd\n",
    "import numpy as np\n",
    "from sklearn.model_selection import StratifiedKFold\n",
    "from sklearn.preprocessing import StandardScaler\n",
    "# from sklearn.linear_model import LogisticRegression\n",
    "from sklearn.metrics import f1_score\n",
    "import matplotlib.pyplot as plt\n",
    "import seaborn as sns\n",
    "pd.set_option('display.max_columns', 10)\n",
    "# Load datasets\n",
    "\n",
    "np.float = float\n",
    "train_path = './hw3_train.csv'\n",
    "test_path = './hw3_test.csv'\n",
    "train_df = pd.read_csv(train_path).dropna(subset=['Pass/Fail'])\n",
    "test_df = pd.read_csv(test_path)\n",
    "train_df.head(), train_df.shape, test_df.shape"
   ]
  },
  {
   "cell_type": "code",
   "execution_count": 2,
   "id": "f86c08a0",
   "metadata": {},
   "outputs": [
    {
     "name": "stdout",
     "output_type": "stream",
     "text": [
      "Training samples: 1096\n",
      "Number of passes (0): 1018\n",
      "Number of fails (1): 78\n"
     ]
    }
   ],
   "source": [
    "# Class distribution\n",
    "y = train_df['Pass/Fail'].astype(int)\n",
    "print('Training samples:', len(y))\n",
    "print('Number of passes (0):', (y == 0).sum())\n",
    "print('Number of fails (1):', (y == 1).sum())"
   ]
  },
  {
   "cell_type": "code",
   "execution_count": 3,
   "id": "f08877cd",
   "metadata": {},
   "outputs": [
    {
     "data": {
      "text/plain": [
       "((1096, 596),\n",
       " 0    0.005474\n",
       " 1    0.004562\n",
       " 2    0.005474\n",
       " 3    0.005474\n",
       " 4    0.005474\n",
       " dtype: float64)"
      ]
     },
     "execution_count": 3,
     "metadata": {},
     "output_type": "execute_result"
    }
   ],
   "source": [
    "# Feature engineering: expand the Time column and drop identifiers\n",
    "def preprocess(df, drop_target=False):\n",
    "    df = df.copy()\n",
    "    df['Time'] = pd.to_datetime(df['Time'], errors='coerce')\n",
    "    df['Time_timestamp'] = df['Time'].values.astype('int64') // 10**9\n",
    "    df['Time_month'] = df['Time'].dt.month\n",
    "    df['Time_day'] = df['Time'].dt.day\n",
    "    df['Time_hour'] = df['Time'].dt.hour\n",
    "    df['Time_minute'] = df['Time'].dt.minute\n",
    "    df['Time_weekday'] = df['Time'].dt.weekday\n",
    "    df = df.drop(columns=['Time'])\n",
    "    if 'Id' in df.columns:\n",
    "        df = df.drop(columns=['Id'])\n",
    "    if drop_target and 'Pass/Fail' in df.columns:\n",
    "        df = df.drop(columns=['Pass/Fail'])\n",
    "    return df.apply(pd.to_numeric, errors='coerce')\n",
    "\n",
    "X = preprocess(train_df, drop_target=True)\n",
    "X_test = preprocess(test_df, drop_target=False)\n",
    "X.shape, X.isnull().mean().head()"
   ]
  },
  {
   "cell_type": "code",
   "execution_count": 4,
   "id": "5b6a56ef",
   "metadata": {},
   "outputs": [
    {
     "name": "stdout",
     "output_type": "stream",
     "text": [
      "Fold 1: macro F1 = 0.5538\n",
      "Fold 2: macro F1 = 0.4813\n",
      "Fold 3: macro F1 = 0.5229\n",
      "Fold 4: macro F1 = 0.5829\n",
      "Fold 5: macro F1 = 0.5808\n",
      "Cross-validated macro F1: 0.5443\n"
     ]
    }
   ],
   "source": [
    "# Evaluate a logistic regression model via cross-validation\n",
    "\n",
    "from sklearn.linear_model import LogisticRegression\n",
    "skf = StratifiedKFold(n_splits=5, shuffle=True, random_state=42)\n",
    "f1_scores = []\n",
    "for fold, (train_idx, val_idx) in enumerate(skf.split(X, y)):\n",
    "    X_train_cv, X_val_cv = X.iloc[train_idx], X.iloc[val_idx]\n",
    "    y_train_cv, y_val_cv = y.iloc[train_idx], y.iloc[val_idx]\n",
    "    # Impute missing values with column medians\n",
    "    medians_cv = X_train_cv.median()\n",
    "    X_train_imp = X_train_cv.fillna(medians_cv)\n",
    "    X_val_imp = X_val_cv.fillna(medians_cv)\n",
    "    scaler_cv = StandardScaler().fit(X_train_imp)\n",
    "    X_train_scaled = scaler_cv.transform(X_train_imp)\n",
    "    X_val_scaled = scaler_cv.transform(X_val_imp)\n",
    "    model_cv = LogisticRegression(max_iter=200, class_weight='balanced')\n",
    "    model_cv.fit(X_train_scaled, y_train_cv)\n",
    "    preds = model_cv.predict(X_val_scaled)\n",
    "    f1 = f1_score(y_val_cv, preds, average='macro')\n",
    "    f1_scores.append(f1)\n",
    "    print(f'Fold {fold+1}: macro F1 = {f1:.4f}')\n",
    "\n",
    "print(f'Cross-validated macro F1: {np.mean(f1_scores):.4f}')"
   ]
  },
  {
   "cell_type": "code",
   "execution_count": 5,
   "id": "22b0ffd7",
   "metadata": {},
   "outputs": [
    {
     "data": {
      "image/png": "[encoded data removed]",
      "text/plain": [
       "<Figure size 600x400 with 1 Axes>"
      ]
     },
     "metadata": {},
     "output_type": "display_data"
    },
    {
     "name": "stdout",
     "output_type": "stream",
     "text": [
      "Best threshold: 0.2868421052631579\n",
      "Corresponding macro F1: 0.5739699089952897\n"
     ]
    }
   ],
   "source": [
    "# Tune the probability threshold using out-of-fold predictions\n",
    "# Collect out-of-fold probabilities for threshold search\n",
    "oof_probs = np.zeros(len(X))\n",
    "for train_idx, val_idx in skf.split(X, y):\n",
    "    X_train_cv, X_val_cv = X.iloc[train_idx], X.iloc[val_idx]\n",
    "    y_train_cv, y_val_cv = y.iloc[train_idx], y.iloc[val_idx]\n",
    "    medians_cv = X_train_cv.median()\n",
    "    X_train_imp = X_train_cv.fillna(medians_cv)\n",
    "    X_val_imp = X_val_cv.fillna(medians_cv)\n",
    "    scaler_cv = StandardScaler().fit(X_train_imp)\n",
    "    X_train_scaled = scaler_cv.transform(X_train_imp)\n",
    "    X_val_scaled = scaler_cv.transform(X_val_imp)\n",
    "    model_cv = LogisticRegression(max_iter=200, class_weight='balanced')\n",
    "    model_cv.fit(X_train_scaled, y_train_cv)\n",
    "    oof_probs[val_idx] = model_cv.predict_proba(X_val_scaled)[:, 1]\n",
    "# Evaluate different thresholds\n",
    "thresholds = np.linspace(0.05, 0.5, 20)\n",
    "scores = []\n",
    "for thr in thresholds:\n",
    "    preds_thr = (oof_probs >= thr).astype(int)\n",
    "    score = f1_score(y, preds_thr, average='macro')\n",
    "    scores.append(score)\n",
    "best_thr = thresholds[np.argmax(scores)]\n",
    "plt.figure(figsize=(6,4))\n",
    "plt.plot(thresholds, scores, marker='o')\n",
    "plt.xlabel('Threshold')\n",
    "plt.ylabel('Macro F1')\n",
    "plt.title('Threshold tuning on out-of-fold predictions')\n",
    "plt.show()\n",
    "print('Best threshold:', best_thr)\n",
    "print('Corresponding macro F1:', max(scores))"
   ]
  },
  {
   "cell_type": "code",
   "execution_count": 6,
   "id": "2deb69b9",
   "metadata": {},
   "outputs": [
    {
     "name": "stdout",
     "output_type": "stream",
     "text": [
      "Predicted failing runs in test set: 6\n"
     ]
    },
    {
     "data": {
      "text/html": [
       "<div>\n",
       "<style scoped>\n",
       "    .dataframe tbody tr th:only-of-type {\n",
       "        vertical-align: middle;\n",
       "    }\n",
       "\n",
       "    .dataframe tbody tr th {\n",
       "        vertical-align: top;\n",
       "    }\n",
       "\n",
       "    .dataframe thead th {\n",
       "        text-align: right;\n",
       "    }\n",
       "</style>\n",
       "<table border=\"1\" class=\"dataframe\">\n",
       "  <thead>\n",
       "    <tr style=\"text-align: right;\">\n",
       "      <th></th>\n",
       "      <th>Id</th>\n",
       "      <th>Pass/Fail</th>\n",
       "    </tr>\n",
       "  </thead>\n",
       "  <tbody>\n",
       "    <tr>\n",
       "      <th>0</th>\n",
       "      <td>1098</td>\n",
       "      <td>0</td>\n",
       "    </tr>\n",
       "    <tr>\n",
       "      <th>1</th>\n",
       "      <td>1099</td>\n",
       "      <td>0</td>\n",
       "    </tr>\n",
       "    <tr>\n",
       "      <th>2</th>\n",
       "      <td>1100</td>\n",
       "      <td>0</td>\n",
       "    </tr>\n",
       "    <tr>\n",
       "      <th>3</th>\n",
       "      <td>1101</td>\n",
       "      <td>0</td>\n",
       "    </tr>\n",
       "    <tr>\n",
       "      <th>4</th>\n",
       "      <td>1102</td>\n",
       "      <td>0</td>\n",
       "    </tr>\n",
       "  </tbody>\n",
       "</table>\n",
       "</div>"
      ],
      "text/plain": [
       "     Id  Pass/Fail\n",
       "0  1098          0\n",
       "1  1099          0\n",
       "2  1100          0\n",
       "3  1101          0\n",
       "4  1102          0"
      ]
     },
     "execution_count": 6,
     "metadata": {},
     "output_type": "execute_result"
    }
   ],
   "source": [
    "# Train on full data using the tuned threshold and create submission\n",
    "best_threshold = float(best_thr)\n",
    "# Impute using full data medians\n",
    "medians_full = X.median()\n",
    "X_full_imp = X.fillna(medians_full)\n",
    "X_test_imp = X_test.fillna(medians_full)\n",
    "# Scale\n",
    "scaler_full = StandardScaler().fit(X_full_imp)\n",
    "X_full_scaled = scaler_full.transform(X_full_imp)\n",
    "X_test_scaled = scaler_full.transform(X_test_imp)\n",
    "# Train logistic regression\n",
    "final_model = LogisticRegression(max_iter=200, class_weight='balanced')\n",
    "final_model.fit(X_full_scaled, y)\n",
    "# Predict probabilities and apply threshold\n",
    "test_probs = final_model.predict_proba(X_test_scaled)[:, 1]\n",
    "test_preds = (test_probs >= best_threshold).astype(int)\n",
    "print('Predicted failing runs in test set:', int(test_preds.sum()))\n",
    "# Create submission dataframe\n",
    "submission = pd.DataFrame({'Id': test_df['Id'].astype(int), 'Pass/Fail': test_preds})\n",
    "submission.head()"
   ]
  },
  {
   "cell_type": "markdown",
   "id": "d0e624f1",
   "metadata": {},
   "source": [
    "## Conclusion\n",
    "\n",
    "The wafer fabrication dataset exhibits extreme class imbalance and contains numerous missing values.  After trying several tree‑based algorithms (LightGBM, XGBoost, RandomForest) we found that a regularised logistic regression classifier, combined with median imputation and feature standardisation, delivered the best macro F1 score on cross‑validation.  The model benefits from assigning balanced class weights and from tuning the decision threshold; a probability cutoff around 0.29 maximised the F1 score.  Training on the full training set and applying this threshold to the test set yielded a small number of predicted failing runs.  \n",
    "The accompanying script `phm_model.py` automates this pipeline and can be used to generate submissions for the competition."
   ]
  }
 ],
 "metadata": {
  "kernelspec": {
   "display_name": "Python 3 (ipykernel)",
   "language": "python",
   "name": "python3"
  },
  "language_info": {
   "codemirror_mode": {
    "name": "ipython",
    "version": 3
   },
   "file_extension": ".py",
   "mimetype": "text/x-python",
   "name": "python",
   "nbconvert_exporter": "python",
   "pygments_lexer": "ipython3",
   "version": "3.8.10"
  }
 },
 "nbformat": 4,
 "nbformat_minor": 5
}
